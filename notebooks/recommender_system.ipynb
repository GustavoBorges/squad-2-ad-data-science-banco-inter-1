{
 "cells": [
  {
   "cell_type": "code",
   "execution_count": 1,
   "metadata": {},
   "outputs": [],
   "source": [
    "import sys\n",
    "sys.path.append('../src')\n",
    "from sklearn.impute import SimpleImputer\n",
    "\n",
    "def qcutting(df,col_names):\n",
    "    data = df.copy()\n",
    "    for col in col_names:\n",
    "        data[col] = pd.qcut(df[col].rank(method='first'), \n",
    "                            4, \n",
    "                            labels=[\"0\",\"1\",\"2\",\"3\"])\n",
    "    return data         "
   ]
  },
  {
   "cell_type": "code",
   "execution_count": 2,
   "metadata": {},
   "outputs": [
    {
     "name": "stdout",
     "output_type": "stream",
     "text": [
      "\n",
      " Aplicando algoritmo de seleção de parâmetros\n",
      "Result approax: 0.8317694307173836\n"
     ]
    }
   ],
   "source": [
    "from feature_selection import FeatureSelection\n",
    "from sklearn.preprocessing import OneHotEncoder\n",
    "from config import Configure\n",
    "import pandas as pd\n",
    "\n",
    "\n",
    "print('\\n Aplicando algoritmo de seleção de parâmetros')\n",
    "settings = Configure()\n",
    "settings.set_fs_params()\n",
    "settings.set_pre_processing_params()\n",
    "pp_params = settings.pre_processing_params\n",
    "fs_params = settings.feature_selection_params\n",
    "df1 = pd.read_csv(settings.pf1_folder)\n",
    "df2 = pd.read_csv(settings.pf2_folder)\n",
    "df3 = pd.read_csv(settings.pf3_folder)\n",
    "mkt = pd.read_csv(settings.mkt_folder)\n",
    "fs = FeatureSelection(mkt,  df1, df2, df3, pp_params, fs_params)\n",
    "values, features = fs.feature_selection_algorithm()\n",
    "columns = features.values[features.values != 'Unnamed: 0']\n",
    "id_column = mkt['id']\n",
    "mkt = mkt[columns]\n",
    "print(\"Result approax:\", values.max())"
   ]
  },
  {
   "cell_type": "code",
   "execution_count": 3,
   "metadata": {},
   "outputs": [
    {
     "name": "stderr",
     "output_type": "stream",
     "text": [
      "/home/guilherme/anaconda3/lib/python3.7/site-packages/ipykernel_launcher.py:7: SettingWithCopyWarning: \n",
      "A value is trying to be set on a copy of a slice from a DataFrame.\n",
      "Try using .loc[row_indexer,col_indexer] = value instead\n",
      "\n",
      "See the caveats in the documentation: http://pandas.pydata.org/pandas-docs/stable/indexing.html#indexing-view-versus-copy\n",
      "  import sys\n",
      "/home/guilherme/anaconda3/lib/python3.7/site-packages/ipykernel_launcher.py:5: SettingWithCopyWarning: \n",
      "A value is trying to be set on a copy of a slice from a DataFrame.\n",
      "Try using .loc[row_indexer,col_indexer] = value instead\n",
      "\n",
      "See the caveats in the documentation: http://pandas.pydata.org/pandas-docs/stable/indexing.html#indexing-view-versus-copy\n",
      "  \"\"\"\n"
     ]
    }
   ],
   "source": []
  },
  {
   "cell_type": "code",
   "execution_count": 4,
   "metadata": {},
   "outputs": [],
   "source": []
  },
  {
   "cell_type": "code",
   "execution_count": 5,
   "metadata": {},
   "outputs": [
    {
     "name": "stderr",
     "output_type": "stream",
     "text": [
      "/home/guilherme/anaconda3/lib/python3.7/site-packages/sklearn/preprocessing/_encoders.py:441: DeprecationWarning: The 'categorical_features' keyword is deprecated in version 0.20 and will be removed in 0.22. The passed value of 'all' is the default and can simply be removed.\n",
      "  DeprecationWarning)\n",
      "/home/guilherme/anaconda3/lib/python3.7/site-packages/sklearn/preprocessing/_encoders.py:441: DeprecationWarning: The 'categorical_features' keyword is deprecated in version 0.20 and will be removed in 0.22. The passed value of 'all' is the default and can simply be removed.\n",
      "  DeprecationWarning)\n"
     ]
    }
   ],
   "source": [
    "\n"
   ]
  },
  {
   "cell_type": "code",
   "execution_count": 11,
   "metadata": {},
   "outputs": [
    {
     "data": {
      "text/plain": [
       "array([[0., 0., 0., ..., 1., 0., 1.],\n",
       "       [0., 1., 0., ..., 1., 0., 1.],\n",
       "       [1., 0., 0., ..., 1., 0., 1.],\n",
       "       ...,\n",
       "       [0., 0., 0., ..., 1., 1., 0.],\n",
       "       [0., 0., 0., ..., 0., 1., 0.],\n",
       "       [0., 0., 0., ..., 1., 0., 1.]])"
      ]
     },
     "execution_count": 11,
     "metadata": {},
     "output_type": "execute_result"
    }
   ],
   "source": [
    "X"
   ]
  },
  {
   "cell_type": "code",
   "execution_count": null,
   "metadata": {},
   "outputs": [],
   "source": [
    "def df_transform(df):\n",
    "    columns = df.columns\n",
    "    for col in columns:\n",
    "        var_type = df[col].dtype \n",
    "        if ((var_type == 'bool')|(var_type == 'object')):\n",
    "            df[col] = df[col].fillna(df[col].mode().values[0])\n",
    "        else:\n",
    "            df[col] = df[col].fillna(df[col].median())\n",
    "    df = qcutting(df, \n",
    "                  columns[(df.dtypes=='float64')|(df.dtypes=='int64')])\n",
    "    encoder = OneHotEncoder(categorical_features='all',sparse = False)\n",
    "    X = encoder.fit_transform(df)"
   ]
  }
 ],
 "metadata": {
  "kernelspec": {
   "display_name": "Python 3",
   "language": "python",
   "name": "python3"
  },
  "language_info": {
   "codemirror_mode": {
    "name": "ipython",
    "version": 3
   },
   "file_extension": ".py",
   "mimetype": "text/x-python",
   "name": "python",
   "nbconvert_exporter": "python",
   "pygments_lexer": "ipython3",
   "version": "3.7.3"
  }
 },
 "nbformat": 4,
 "nbformat_minor": 2
}
