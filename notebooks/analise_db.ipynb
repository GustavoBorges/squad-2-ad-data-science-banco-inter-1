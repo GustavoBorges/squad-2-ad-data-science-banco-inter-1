{
 "cells": [
  {
   "cell_type": "markdown",
   "metadata": {},
   "source": [
    "## Análise e interpretação dos dados fornecidos para o projeto final"
   ]
  },
  {
   "cell_type": "markdown",
   "metadata": {},
   "source": [
    "### Importando bibliotecas que serão usadas"
   ]
  },
  {
   "cell_type": "code",
   "execution_count": 20,
   "metadata": {},
   "outputs": [],
   "source": [
    "import pandas as pd\n",
    "import numpy as np\n",
    "import seaborn as sns\n",
    "import sklearn\n",
    "import matplotlib.pyplot as plt"
   ]
  },
  {
   "cell_type": "markdown",
   "metadata": {},
   "source": [
    "### Leitura e visualização dos datasets"
   ]
  },
  {
   "cell_type": "code",
   "execution_count": 21,
   "metadata": {},
   "outputs": [],
   "source": [
    "df1 = pd.read_csv('../data/estaticos_portfolio1.csv',index_col = 0)\n",
    "df2 = pd.read_csv('../data/estaticos_portfolio2.csv',index_col = 0)\n",
    "df3 = pd.read_csv('../data/estaticos_portfolio3.csv',index_col = 0)\n",
    "mkt = pd.read_csv('../data/estaticos_market.csv',index_col = 0)\n",
    "df2 = pd.merge(df2,mkt, on='id', how='inner')\n",
    "df3 = pd.merge(df3,mkt, on='id', how='inner')"
   ]
  },
  {
   "cell_type": "code",
   "execution_count": 22,
   "metadata": {},
   "outputs": [
    {
     "data": {
      "text/plain": [
       "(462298, 181)"
      ]
     },
     "execution_count": 22,
     "metadata": {},
     "output_type": "execute_result"
    }
   ],
   "source": [
    "## numero de entradas\n",
    "mkt.shape"
   ]
  },
  {
   "cell_type": "code",
   "execution_count": 23,
   "metadata": {},
   "outputs": [
    {
     "data": {
      "text/html": [
       "<div>\n",
       "<style scoped>\n",
       "    .dataframe tbody tr th:only-of-type {\n",
       "        vertical-align: middle;\n",
       "    }\n",
       "\n",
       "    .dataframe tbody tr th {\n",
       "        vertical-align: top;\n",
       "    }\n",
       "\n",
       "    .dataframe thead th {\n",
       "        text-align: right;\n",
       "    }\n",
       "</style>\n",
       "<table border=\"1\" class=\"dataframe\">\n",
       "  <thead>\n",
       "    <tr style=\"text-align: right;\">\n",
       "      <th></th>\n",
       "      <th>id</th>\n",
       "      <th>fl_matriz</th>\n",
       "      <th>de_natureza_juridica</th>\n",
       "      <th>sg_uf</th>\n",
       "      <th>natureza_juridica_macro</th>\n",
       "      <th>de_ramo</th>\n",
       "      <th>setor</th>\n",
       "      <th>idade_empresa_anos</th>\n",
       "      <th>idade_emp_cat</th>\n",
       "      <th>fl_me</th>\n",
       "      <th>...</th>\n",
       "      <th>media_meses_servicos</th>\n",
       "      <th>max_meses_servicos</th>\n",
       "      <th>min_meses_servicos</th>\n",
       "      <th>qt_funcionarios</th>\n",
       "      <th>qt_funcionarios_12meses</th>\n",
       "      <th>qt_funcionarios_24meses</th>\n",
       "      <th>tx_crescimento_12meses</th>\n",
       "      <th>tx_crescimento_24meses</th>\n",
       "      <th>tx_rotatividade</th>\n",
       "      <th>qt_filiais</th>\n",
       "    </tr>\n",
       "  </thead>\n",
       "  <tbody>\n",
       "    <tr>\n",
       "      <th>0</th>\n",
       "      <td>a6984c3ae395090e3bee8ad63c3758b110de096d5d8195...</td>\n",
       "      <td>True</td>\n",
       "      <td>SOCIEDADE EMPRESARIA LIMITADA</td>\n",
       "      <td>RN</td>\n",
       "      <td>ENTIDADES EMPRESARIAIS</td>\n",
       "      <td>INDUSTRIA DA CONSTRUCAO</td>\n",
       "      <td>CONSTRUÇÃO CIVIL</td>\n",
       "      <td>14.457534</td>\n",
       "      <td>10 a 15</td>\n",
       "      <td>False</td>\n",
       "      <td>...</td>\n",
       "      <td>43.738462</td>\n",
       "      <td>93.266667</td>\n",
       "      <td>19.166667</td>\n",
       "      <td>26.0</td>\n",
       "      <td>26.0</td>\n",
       "      <td>27.0</td>\n",
       "      <td>0.0</td>\n",
       "      <td>-3.703704</td>\n",
       "      <td>0.0</td>\n",
       "      <td>0</td>\n",
       "    </tr>\n",
       "    <tr>\n",
       "      <th>1</th>\n",
       "      <td>6178f41ade1365e44bc2c46654c2c8c0eaae27dcb476c4...</td>\n",
       "      <td>True</td>\n",
       "      <td>EMPRESARIO INDIVIDUAL</td>\n",
       "      <td>PI</td>\n",
       "      <td>OUTROS</td>\n",
       "      <td>SERVICOS DE ALOJAMENTO/ALIMENTACAO</td>\n",
       "      <td>SERVIÇO</td>\n",
       "      <td>1.463014</td>\n",
       "      <td>1 a 5</td>\n",
       "      <td>False</td>\n",
       "      <td>...</td>\n",
       "      <td>NaN</td>\n",
       "      <td>NaN</td>\n",
       "      <td>NaN</td>\n",
       "      <td>NaN</td>\n",
       "      <td>NaN</td>\n",
       "      <td>NaN</td>\n",
       "      <td>NaN</td>\n",
       "      <td>NaN</td>\n",
       "      <td>NaN</td>\n",
       "      <td>0</td>\n",
       "    </tr>\n",
       "    <tr>\n",
       "      <th>2</th>\n",
       "      <td>4a7e5069a397f12fdd7fd57111d6dc5d3ba558958efc02...</td>\n",
       "      <td>True</td>\n",
       "      <td>EMPRESARIO INDIVIDUAL</td>\n",
       "      <td>AM</td>\n",
       "      <td>OUTROS</td>\n",
       "      <td>TRANSPORTE, ARMAZENAGEM E CORREIO</td>\n",
       "      <td>SERVIÇO</td>\n",
       "      <td>7.093151</td>\n",
       "      <td>5 a 10</td>\n",
       "      <td>False</td>\n",
       "      <td>...</td>\n",
       "      <td>NaN</td>\n",
       "      <td>NaN</td>\n",
       "      <td>NaN</td>\n",
       "      <td>NaN</td>\n",
       "      <td>NaN</td>\n",
       "      <td>NaN</td>\n",
       "      <td>NaN</td>\n",
       "      <td>NaN</td>\n",
       "      <td>NaN</td>\n",
       "      <td>0</td>\n",
       "    </tr>\n",
       "    <tr>\n",
       "      <th>3</th>\n",
       "      <td>3348900fe63216a439d2e5238c79ddd46ede454df7b9d8...</td>\n",
       "      <td>True</td>\n",
       "      <td>EMPRESARIO INDIVIDUAL</td>\n",
       "      <td>AM</td>\n",
       "      <td>OUTROS</td>\n",
       "      <td>SERVICOS DIVERSOS</td>\n",
       "      <td>SERVIÇO</td>\n",
       "      <td>6.512329</td>\n",
       "      <td>5 a 10</td>\n",
       "      <td>False</td>\n",
       "      <td>...</td>\n",
       "      <td>NaN</td>\n",
       "      <td>NaN</td>\n",
       "      <td>NaN</td>\n",
       "      <td>NaN</td>\n",
       "      <td>NaN</td>\n",
       "      <td>NaN</td>\n",
       "      <td>NaN</td>\n",
       "      <td>NaN</td>\n",
       "      <td>NaN</td>\n",
       "      <td>0</td>\n",
       "    </tr>\n",
       "    <tr>\n",
       "      <th>4</th>\n",
       "      <td>1f9bcabc9d3173c1fe769899e4fac14b053037b953a1e4...</td>\n",
       "      <td>True</td>\n",
       "      <td>EMPRESARIO INDIVIDUAL</td>\n",
       "      <td>RN</td>\n",
       "      <td>OUTROS</td>\n",
       "      <td>SERVICOS PROFISSIONAIS, TECNICOS E CIENTIFICOS</td>\n",
       "      <td>SERVIÇO</td>\n",
       "      <td>3.200000</td>\n",
       "      <td>1 a 5</td>\n",
       "      <td>False</td>\n",
       "      <td>...</td>\n",
       "      <td>NaN</td>\n",
       "      <td>NaN</td>\n",
       "      <td>NaN</td>\n",
       "      <td>NaN</td>\n",
       "      <td>NaN</td>\n",
       "      <td>NaN</td>\n",
       "      <td>NaN</td>\n",
       "      <td>NaN</td>\n",
       "      <td>NaN</td>\n",
       "      <td>0</td>\n",
       "    </tr>\n",
       "  </tbody>\n",
       "</table>\n",
       "<p>5 rows × 181 columns</p>\n",
       "</div>"
      ],
      "text/plain": [
       "                                                  id  fl_matriz  \\\n",
       "0  a6984c3ae395090e3bee8ad63c3758b110de096d5d8195...       True   \n",
       "1  6178f41ade1365e44bc2c46654c2c8c0eaae27dcb476c4...       True   \n",
       "2  4a7e5069a397f12fdd7fd57111d6dc5d3ba558958efc02...       True   \n",
       "3  3348900fe63216a439d2e5238c79ddd46ede454df7b9d8...       True   \n",
       "4  1f9bcabc9d3173c1fe769899e4fac14b053037b953a1e4...       True   \n",
       "\n",
       "            de_natureza_juridica sg_uf natureza_juridica_macro  \\\n",
       "0  SOCIEDADE EMPRESARIA LIMITADA    RN  ENTIDADES EMPRESARIAIS   \n",
       "1          EMPRESARIO INDIVIDUAL    PI                  OUTROS   \n",
       "2          EMPRESARIO INDIVIDUAL    AM                  OUTROS   \n",
       "3          EMPRESARIO INDIVIDUAL    AM                  OUTROS   \n",
       "4          EMPRESARIO INDIVIDUAL    RN                  OUTROS   \n",
       "\n",
       "                                          de_ramo             setor  \\\n",
       "0                         INDUSTRIA DA CONSTRUCAO  CONSTRUÇÃO CIVIL   \n",
       "1              SERVICOS DE ALOJAMENTO/ALIMENTACAO           SERVIÇO   \n",
       "2               TRANSPORTE, ARMAZENAGEM E CORREIO           SERVIÇO   \n",
       "3                               SERVICOS DIVERSOS           SERVIÇO   \n",
       "4  SERVICOS PROFISSIONAIS, TECNICOS E CIENTIFICOS           SERVIÇO   \n",
       "\n",
       "   idade_empresa_anos idade_emp_cat  fl_me  ...  media_meses_servicos  \\\n",
       "0           14.457534       10 a 15  False  ...             43.738462   \n",
       "1            1.463014         1 a 5  False  ...                   NaN   \n",
       "2            7.093151        5 a 10  False  ...                   NaN   \n",
       "3            6.512329        5 a 10  False  ...                   NaN   \n",
       "4            3.200000         1 a 5  False  ...                   NaN   \n",
       "\n",
       "   max_meses_servicos  min_meses_servicos  qt_funcionarios  \\\n",
       "0           93.266667           19.166667             26.0   \n",
       "1                 NaN                 NaN              NaN   \n",
       "2                 NaN                 NaN              NaN   \n",
       "3                 NaN                 NaN              NaN   \n",
       "4                 NaN                 NaN              NaN   \n",
       "\n",
       "  qt_funcionarios_12meses  qt_funcionarios_24meses  tx_crescimento_12meses  \\\n",
       "0                    26.0                     27.0                     0.0   \n",
       "1                     NaN                      NaN                     NaN   \n",
       "2                     NaN                      NaN                     NaN   \n",
       "3                     NaN                      NaN                     NaN   \n",
       "4                     NaN                      NaN                     NaN   \n",
       "\n",
       "   tx_crescimento_24meses tx_rotatividade qt_filiais  \n",
       "0               -3.703704             0.0          0  \n",
       "1                     NaN             NaN          0  \n",
       "2                     NaN             NaN          0  \n",
       "3                     NaN             NaN          0  \n",
       "4                     NaN             NaN          0  \n",
       "\n",
       "[5 rows x 181 columns]"
      ]
     },
     "execution_count": 23,
     "metadata": {},
     "output_type": "execute_result"
    }
   ],
   "source": [
    "## corpo do dataset\n",
    "mkt.head()"
   ]
  },
  {
   "cell_type": "markdown",
   "metadata": {},
   "source": [
    "### Verificando o número de registros faltantes em cada feature"
   ]
  },
  {
   "cell_type": "code",
   "execution_count": 24,
   "metadata": {},
   "outputs": [
    {
     "data": {
      "image/png": "[encoded data removed]",
      "text/plain": [
       "<Figure size 432x288 with 1 Axes>"
      ]
     },
     "metadata": {
      "needs_background": "light"
     },
     "output_type": "display_data"
    }
   ],
   "source": [
    "plt.hist(100*(mkt.isnull().sum(axis=0))/mkt.shape[0],bins = 10,histtype='step',color = 'black',linewidth = 2.)\n",
    "plt.xlabel('Número de dados faltantes (%)')\n",
    "plt.ylabel('Numero de variáveis')\n",
    "plt.grid()"
   ]
  },
  {
   "cell_type": "markdown",
   "metadata": {},
   "source": [
    "### Como primeiro passo, eliminarei as variáveis com 70% dos dados faltantes (não faz sentido trabalhar com um parâmetro que quase não possui estatística). Coloquei a porcentagem de corte como ajustável, logo podemos aumentar ou diminuir esse threshold."
   ]
  },
  {
   "cell_type": "code",
   "execution_count": 25,
   "metadata": {},
   "outputs": [
    {
     "name": "stdout",
     "output_type": "stream",
     "text": [
      "Variaveis que serão removidas total:129\n",
      "  Index(['vl_total_tancagem', 'vl_total_veiculos_antt',\n",
      "       'vl_total_veiculos_leves', 'vl_total_veiculos_pesados', 'qt_art',\n",
      "       'vl_total_tancagem_grupo', 'vl_total_veiculos_antt_grupo',\n",
      "       'vl_potenc_cons_oleo_gas', 'de_indicador_telefone', 'vl_frota',\n",
      "       ...\n",
      "       'min_meses_servicos_all', 'media_meses_servicos', 'max_meses_servicos',\n",
      "       'min_meses_servicos', 'qt_funcionarios', 'qt_funcionarios_12meses',\n",
      "       'qt_funcionarios_24meses', 'tx_crescimento_12meses',\n",
      "       'tx_crescimento_24meses', 'tx_rotatividade'],\n",
      "      dtype='object', length=129)\n"
     ]
    }
   ],
   "source": [
    "threshold = 0.7   ## pegar colunas maior que 95%\n",
    "nan_num   = (mkt.isnull().sum(axis = 0))/mkt.shape[0]  ## calculo da porcentagem de registros null para cada coluna\n",
    "var_nans  = mkt.columns[nan_num>=threshold] ## pega nome das colunas maiores que a porcentagem definida\n",
    "print('Variaveis que serão removidas total:'+str(var_nans.shape[0])+'\\n ',var_nans)"
   ]
  },
  {
   "cell_type": "markdown",
   "metadata": {},
   "source": [
    "### Removendo váriaveis "
   ]
  },
  {
   "cell_type": "code",
   "execution_count": 26,
   "metadata": {},
   "outputs": [],
   "source": [
    "mkt.drop(labels=var_nans,axis=1,inplace=True)    "
   ]
  },
  {
   "cell_type": "code",
   "execution_count": 27,
   "metadata": {},
   "outputs": [
    {
     "data": {
      "text/plain": [
       "(462298, 52)"
      ]
     },
     "execution_count": 27,
     "metadata": {},
     "output_type": "execute_result"
    }
   ],
   "source": [
    "## Database com features removidas\n",
    "mkt.shape"
   ]
  },
  {
   "cell_type": "markdown",
   "metadata": {},
   "source": [
    "### Analise dos registros faltantes"
   ]
  },
  {
   "cell_type": "code",
   "execution_count": 35,
   "metadata": {},
   "outputs": [
    {
     "data": {
      "image/png": "[encoded data removed]",
      "text/plain": [
       "<Figure size 432x288 with 1 Axes>"
      ]
     },
     "metadata": {
      "needs_background": "light"
     },
     "output_type": "display_data"
    }
   ],
   "source": [
    "plt.hist(100*mkt.isnull().sum(axis=1)/mkt.shape[1],bins = 10,histtype='step',color = 'black',linewidth = 2.)\n",
    "plt.xlabel('Número de dados registros (%)')\n",
    "plt.ylabel('Numero de registros')\n",
    "plt.grid()"
   ]
  },
  {
   "cell_type": "markdown",
   "metadata": {},
   "source": [
    "#### Não é necessário remover registros"
   ]
  },
  {
   "cell_type": "markdown",
   "metadata": {},
   "source": [
    "### Análise exploratória com as features escolhidas"
   ]
  },
  {
   "cell_type": "code",
   "execution_count": 37,
   "metadata": {},
   "outputs": [],
   "source": [
    "keys_chosen = ['id',\n",
    "'fl_matriz',\n",
    "'de_natureza_juridica',\n",
    "'sg_uf',\n",
    "'nm_meso_regiao',\n",
    "'de_ramo',\n",
    "'setor',\n",
    "'idade_empresa_anos',\n",
    "'idade_emp_cat',\n",
    "'fl_st_especial',\n",
    "'fl_rm',\n",
    "'de_saude_tributaria',\n",
    "'de_nivel_atividade']"
   ]
  },
  {
   "cell_type": "code",
   "execution_count": 47,
   "metadata": {},
   "outputs": [],
   "source": [
    "df1_filt = df1[keys_chosen]\n",
    "df2_filt = df2[keys_chosen]\n",
    "df3_filt = df3[keys_chosen]\n",
    "mkt_filt = mkt[keys_chosen]"
   ]
  },
  {
   "cell_type": "markdown",
   "metadata": {},
   "source": [
    "#### Começarei a análise por df1 e df2 visto que não possuem clientes em comum"
   ]
  },
  {
   "cell_type": "code",
   "execution_count": 48,
   "metadata": {},
   "outputs": [
    {
     "name": "stdout",
     "output_type": "stream",
     "text": [
      "<class 'pandas.core.frame.DataFrame'>\n",
      "Int64Index: 462298 entries, 0 to 462297\n",
      "Data columns (total 13 columns):\n",
      "id                      462298 non-null object\n",
      "fl_matriz               462298 non-null bool\n",
      "de_natureza_juridica    462298 non-null object\n",
      "sg_uf                   462298 non-null object\n",
      "nm_meso_regiao          403600 non-null object\n",
      "de_ramo                 462298 non-null object\n",
      "setor                   460371 non-null object\n",
      "idade_empresa_anos      462298 non-null float64\n",
      "idade_emp_cat           462298 non-null object\n",
      "fl_st_especial          462298 non-null bool\n",
      "fl_rm                   462298 non-null object\n",
      "de_saude_tributaria     447447 non-null object\n",
      "de_nivel_atividade      451130 non-null object\n",
      "dtypes: bool(2), float64(1), object(10)\n",
      "memory usage: 43.2+ MB\n"
     ]
    }
   ],
   "source": [
    "mkt_filt.info()"
   ]
  },
  {
   "cell_type": "code",
   "execution_count": 49,
   "metadata": {},
   "outputs": [
    {
     "data": {
      "text/html": [
       "<div>\n",
       "<style scoped>\n",
       "    .dataframe tbody tr th:only-of-type {\n",
       "        vertical-align: middle;\n",
       "    }\n",
       "\n",
       "    .dataframe tbody tr th {\n",
       "        vertical-align: top;\n",
       "    }\n",
       "\n",
       "    .dataframe thead th {\n",
       "        text-align: right;\n",
       "    }\n",
       "</style>\n",
       "<table border=\"1\" class=\"dataframe\">\n",
       "  <thead>\n",
       "    <tr style=\"text-align: right;\">\n",
       "      <th></th>\n",
       "      <th>idade_empresa_anos</th>\n",
       "    </tr>\n",
       "  </thead>\n",
       "  <tbody>\n",
       "    <tr>\n",
       "      <th>count</th>\n",
       "      <td>555.000000</td>\n",
       "    </tr>\n",
       "    <tr>\n",
       "      <th>mean</th>\n",
       "      <td>10.139247</td>\n",
       "    </tr>\n",
       "    <tr>\n",
       "      <th>std</th>\n",
       "      <td>9.641625</td>\n",
       "    </tr>\n",
       "    <tr>\n",
       "      <th>min</th>\n",
       "      <td>0.052055</td>\n",
       "    </tr>\n",
       "    <tr>\n",
       "      <th>25%</th>\n",
       "      <td>2.924658</td>\n",
       "    </tr>\n",
       "    <tr>\n",
       "      <th>50%</th>\n",
       "      <td>6.709589</td>\n",
       "    </tr>\n",
       "    <tr>\n",
       "      <th>75%</th>\n",
       "      <td>15.494521</td>\n",
       "    </tr>\n",
       "    <tr>\n",
       "      <th>max</th>\n",
       "      <td>47.517808</td>\n",
       "    </tr>\n",
       "  </tbody>\n",
       "</table>\n",
       "</div>"
      ],
      "text/plain": [
       "       idade_empresa_anos\n",
       "count          555.000000\n",
       "mean            10.139247\n",
       "std              9.641625\n",
       "min              0.052055\n",
       "25%              2.924658\n",
       "50%              6.709589\n",
       "75%             15.494521\n",
       "max             47.517808"
      ]
     },
     "execution_count": 49,
     "metadata": {},
     "output_type": "execute_result"
    }
   ],
   "source": [
    "df1_filt.describe()"
   ]
  },
  {
   "cell_type": "code",
   "execution_count": 50,
   "metadata": {},
   "outputs": [
    {
     "data": {
      "text/html": [
       "<div>\n",
       "<style scoped>\n",
       "    .dataframe tbody tr th:only-of-type {\n",
       "        vertical-align: middle;\n",
       "    }\n",
       "\n",
       "    .dataframe tbody tr th {\n",
       "        vertical-align: top;\n",
       "    }\n",
       "\n",
       "    .dataframe thead th {\n",
       "        text-align: right;\n",
       "    }\n",
       "</style>\n",
       "<table border=\"1\" class=\"dataframe\">\n",
       "  <thead>\n",
       "    <tr style=\"text-align: right;\">\n",
       "      <th></th>\n",
       "      <th>idade_empresa_anos</th>\n",
       "    </tr>\n",
       "  </thead>\n",
       "  <tbody>\n",
       "    <tr>\n",
       "      <th>count</th>\n",
       "      <td>566.000000</td>\n",
       "    </tr>\n",
       "    <tr>\n",
       "      <th>mean</th>\n",
       "      <td>26.987691</td>\n",
       "    </tr>\n",
       "    <tr>\n",
       "      <th>std</th>\n",
       "      <td>11.638360</td>\n",
       "    </tr>\n",
       "    <tr>\n",
       "      <th>min</th>\n",
       "      <td>10.038356</td>\n",
       "    </tr>\n",
       "    <tr>\n",
       "      <th>25%</th>\n",
       "      <td>17.832192</td>\n",
       "    </tr>\n",
       "    <tr>\n",
       "      <th>50%</th>\n",
       "      <td>23.402740</td>\n",
       "    </tr>\n",
       "    <tr>\n",
       "      <th>75%</th>\n",
       "      <td>38.628082</td>\n",
       "    </tr>\n",
       "    <tr>\n",
       "      <th>max</th>\n",
       "      <td>55.126027</td>\n",
       "    </tr>\n",
       "  </tbody>\n",
       "</table>\n",
       "</div>"
      ],
      "text/plain": [
       "       idade_empresa_anos\n",
       "count          566.000000\n",
       "mean            26.987691\n",
       "std             11.638360\n",
       "min             10.038356\n",
       "25%             17.832192\n",
       "50%             23.402740\n",
       "75%             38.628082\n",
       "max             55.126027"
      ]
     },
     "execution_count": 50,
     "metadata": {},
     "output_type": "execute_result"
    }
   ],
   "source": [
    "df2_filt.describe()"
   ]
  },
  {
   "cell_type": "markdown",
   "metadata": {},
   "source": [
    "#### Só temos uma variável numérica. Vamos ver se conseguimos diferencias os clientes por ela"
   ]
  },
  {
   "cell_type": "code",
   "execution_count": 81,
   "metadata": {},
   "outputs": [
    {
     "name": "stderr",
     "output_type": "stream",
     "text": [
      "/home/guilherme/anaconda3/lib/python3.7/site-packages/ipykernel_launcher.py:2: SettingWithCopyWarning: \n",
      "A value is trying to be set on a copy of a slice from a DataFrame.\n",
      "Try using .loc[row_indexer,col_indexer] = value instead\n",
      "\n",
      "See the caveats in the documentation: http://pandas.pydata.org/pandas-docs/stable/indexing.html#indexing-view-versus-copy\n",
      "  \n",
      "/home/guilherme/anaconda3/lib/python3.7/site-packages/ipykernel_launcher.py:3: SettingWithCopyWarning: \n",
      "A value is trying to be set on a copy of a slice from a DataFrame.\n",
      "Try using .loc[row_indexer,col_indexer] = value instead\n",
      "\n",
      "See the caveats in the documentation: http://pandas.pydata.org/pandas-docs/stable/indexing.html#indexing-view-versus-copy\n",
      "  This is separate from the ipykernel package so we can avoid doing imports until\n",
      "/home/guilherme/anaconda3/lib/python3.7/site-packages/ipykernel_launcher.py:4: SettingWithCopyWarning: \n",
      "A value is trying to be set on a copy of a slice from a DataFrame.\n",
      "Try using .loc[row_indexer,col_indexer] = value instead\n",
      "\n",
      "See the caveats in the documentation: http://pandas.pydata.org/pandas-docs/stable/indexing.html#indexing-view-versus-copy\n",
      "  after removing the cwd from sys.path.\n"
     ]
    }
   ],
   "source": [
    "## rotulando os dados\n",
    "df1_filt['target'] = np.ones(df1_filt.shape[0]).astype(np.int)\n",
    "df2_filt['target'] = 2*np.ones(df2_filt.shape[0]).astype(np.int)\n",
    "df3_filt['target'] = 3*np.ones(df3_filt.shape[0]).astype(np.int)"
   ]
  },
  {
   "cell_type": "code",
   "execution_count": 83,
   "metadata": {},
   "outputs": [
    {
     "data": {
      "text/html": [
       "<div>\n",
       "<style scoped>\n",
       "    .dataframe tbody tr th:only-of-type {\n",
       "        vertical-align: middle;\n",
       "    }\n",
       "\n",
       "    .dataframe tbody tr th {\n",
       "        vertical-align: top;\n",
       "    }\n",
       "\n",
       "    .dataframe thead th {\n",
       "        text-align: right;\n",
       "    }\n",
       "</style>\n",
       "<table border=\"1\" class=\"dataframe\">\n",
       "  <thead>\n",
       "    <tr style=\"text-align: right;\">\n",
       "      <th></th>\n",
       "      <th>id</th>\n",
       "      <th>fl_matriz</th>\n",
       "      <th>de_natureza_juridica</th>\n",
       "      <th>sg_uf</th>\n",
       "      <th>nm_meso_regiao</th>\n",
       "      <th>de_ramo</th>\n",
       "      <th>setor</th>\n",
       "      <th>idade_empresa_anos</th>\n",
       "      <th>idade_emp_cat</th>\n",
       "      <th>fl_st_especial</th>\n",
       "      <th>fl_rm</th>\n",
       "      <th>de_saude_tributaria</th>\n",
       "      <th>de_nivel_atividade</th>\n",
       "      <th>target</th>\n",
       "    </tr>\n",
       "  </thead>\n",
       "  <tbody>\n",
       "    <tr>\n",
       "      <th>0</th>\n",
       "      <td>bb61c09449a1c1f8b78955d8b7a7f73599e78358993fe2...</td>\n",
       "      <td>True</td>\n",
       "      <td>MUNICIPIO</td>\n",
       "      <td>MA</td>\n",
       "      <td>OESTE MARANHENSE</td>\n",
       "      <td>ADMINISTRACAO PUBLICA, DEFESA E SEGURIDADE SOCIAL</td>\n",
       "      <td>SERVIÇO</td>\n",
       "      <td>21.813699</td>\n",
       "      <td>&gt; 20</td>\n",
       "      <td>False</td>\n",
       "      <td>NAO</td>\n",
       "      <td>VERDE</td>\n",
       "      <td>ALTA</td>\n",
       "      <td>3</td>\n",
       "    </tr>\n",
       "    <tr>\n",
       "      <th>1</th>\n",
       "      <td>16843c9ffb920170477118933798510d8d5f00f5c56c12...</td>\n",
       "      <td>True</td>\n",
       "      <td>SOCIEDADE SIMPLES LIMITADA</td>\n",
       "      <td>PI</td>\n",
       "      <td>NORTE PIAUIENSE</td>\n",
       "      <td>SERVICOS DE EDUCACAO</td>\n",
       "      <td>SERVIÇO</td>\n",
       "      <td>16.389041</td>\n",
       "      <td>15 a 20</td>\n",
       "      <td>False</td>\n",
       "      <td>NAO</td>\n",
       "      <td>VERDE</td>\n",
       "      <td>ALTA</td>\n",
       "      <td>3</td>\n",
       "    </tr>\n",
       "    <tr>\n",
       "      <th>2</th>\n",
       "      <td>1b8d092daff12bed8b3c2ab93bf5df2921865a68aca185...</td>\n",
       "      <td>True</td>\n",
       "      <td>ORGAO PUBLICO DO PODER EXECUTIVO ESTADUAL OU D...</td>\n",
       "      <td>AM</td>\n",
       "      <td>CENTRO AMAZONENSE</td>\n",
       "      <td>ADMINISTRACAO PUBLICA, DEFESA E SEGURIDADE SOCIAL</td>\n",
       "      <td>SERVIÇO</td>\n",
       "      <td>40.380822</td>\n",
       "      <td>&gt; 20</td>\n",
       "      <td>False</td>\n",
       "      <td>SIM</td>\n",
       "      <td>AZUL</td>\n",
       "      <td>ALTA</td>\n",
       "      <td>3</td>\n",
       "    </tr>\n",
       "    <tr>\n",
       "      <th>3</th>\n",
       "      <td>3aafa3a1f12f483740a52956af100223333d0e3c79bf2c...</td>\n",
       "      <td>True</td>\n",
       "      <td>MUNICIPIO</td>\n",
       "      <td>PI</td>\n",
       "      <td>CENTRO NORTE PIAUIENSE</td>\n",
       "      <td>ADMINISTRACAO PUBLICA, DEFESA E SEGURIDADE SOCIAL</td>\n",
       "      <td>SERVIÇO</td>\n",
       "      <td>43.854795</td>\n",
       "      <td>&gt; 20</td>\n",
       "      <td>False</td>\n",
       "      <td>SIM</td>\n",
       "      <td>AZUL</td>\n",
       "      <td>ALTA</td>\n",
       "      <td>3</td>\n",
       "    </tr>\n",
       "    <tr>\n",
       "      <th>4</th>\n",
       "      <td>c60431fbca90067f105570e1e8a684bcd7048205bbf6c4...</td>\n",
       "      <td>True</td>\n",
       "      <td>MUNICIPIO</td>\n",
       "      <td>RN</td>\n",
       "      <td>AGRESTE POTIGUAR</td>\n",
       "      <td>ADMINISTRACAO PUBLICA, DEFESA E SEGURIDADE SOCIAL</td>\n",
       "      <td>SERVIÇO</td>\n",
       "      <td>43.865753</td>\n",
       "      <td>&gt; 20</td>\n",
       "      <td>False</td>\n",
       "      <td>NAO</td>\n",
       "      <td>AZUL</td>\n",
       "      <td>ALTA</td>\n",
       "      <td>3</td>\n",
       "    </tr>\n",
       "  </tbody>\n",
       "</table>\n",
       "</div>"
      ],
      "text/plain": [
       "                                                  id  fl_matriz  \\\n",
       "0  bb61c09449a1c1f8b78955d8b7a7f73599e78358993fe2...       True   \n",
       "1  16843c9ffb920170477118933798510d8d5f00f5c56c12...       True   \n",
       "2  1b8d092daff12bed8b3c2ab93bf5df2921865a68aca185...       True   \n",
       "3  3aafa3a1f12f483740a52956af100223333d0e3c79bf2c...       True   \n",
       "4  c60431fbca90067f105570e1e8a684bcd7048205bbf6c4...       True   \n",
       "\n",
       "                                de_natureza_juridica sg_uf  \\\n",
       "0                                          MUNICIPIO    MA   \n",
       "1                         SOCIEDADE SIMPLES LIMITADA    PI   \n",
       "2  ORGAO PUBLICO DO PODER EXECUTIVO ESTADUAL OU D...    AM   \n",
       "3                                          MUNICIPIO    PI   \n",
       "4                                          MUNICIPIO    RN   \n",
       "\n",
       "           nm_meso_regiao                                            de_ramo  \\\n",
       "0        OESTE MARANHENSE  ADMINISTRACAO PUBLICA, DEFESA E SEGURIDADE SOCIAL   \n",
       "1         NORTE PIAUIENSE                               SERVICOS DE EDUCACAO   \n",
       "2       CENTRO AMAZONENSE  ADMINISTRACAO PUBLICA, DEFESA E SEGURIDADE SOCIAL   \n",
       "3  CENTRO NORTE PIAUIENSE  ADMINISTRACAO PUBLICA, DEFESA E SEGURIDADE SOCIAL   \n",
       "4        AGRESTE POTIGUAR  ADMINISTRACAO PUBLICA, DEFESA E SEGURIDADE SOCIAL   \n",
       "\n",
       "     setor  idade_empresa_anos idade_emp_cat  fl_st_especial fl_rm  \\\n",
       "0  SERVIÇO           21.813699          > 20           False   NAO   \n",
       "1  SERVIÇO           16.389041       15 a 20           False   NAO   \n",
       "2  SERVIÇO           40.380822          > 20           False   SIM   \n",
       "3  SERVIÇO           43.854795          > 20           False   SIM   \n",
       "4  SERVIÇO           43.865753          > 20           False   NAO   \n",
       "\n",
       "  de_saude_tributaria de_nivel_atividade  target  \n",
       "0               VERDE               ALTA       3  \n",
       "1               VERDE               ALTA       3  \n",
       "2                AZUL               ALTA       3  \n",
       "3                AZUL               ALTA       3  \n",
       "4                AZUL               ALTA       3  "
      ]
     },
     "execution_count": 83,
     "metadata": {},
     "output_type": "execute_result"
    }
   ],
   "source": [
    "pd.merge()"
   ]
  },
  {
   "cell_type": "code",
   "execution_count": null,
   "metadata": {},
   "outputs": [],
   "source": []
  },
  {
   "cell_type": "code",
   "execution_count": null,
   "metadata": {},
   "outputs": [],
   "source": []
  },
  {
   "cell_type": "code",
   "execution_count": null,
   "metadata": {},
   "outputs": [],
   "source": []
  },
  {
   "cell_type": "code",
   "execution_count": null,
   "metadata": {},
   "outputs": [],
   "source": []
  },
  {
   "cell_type": "code",
   "execution_count": null,
   "metadata": {},
   "outputs": [],
   "source": []
  },
  {
   "cell_type": "code",
   "execution_count": null,
   "metadata": {},
   "outputs": [],
   "source": []
  },
  {
   "cell_type": "code",
   "execution_count": null,
   "metadata": {},
   "outputs": [],
   "source": []
  }
 ],
 "metadata": {
  "kernelspec": {
   "display_name": "Python 3",
   "language": "python",
   "name": "python3"
  },
  "language_info": {
   "codemirror_mode": {
    "name": "ipython",
    "version": 3
   },
   "file_extension": ".py",
   "mimetype": "text/x-python",
   "name": "python",
   "nbconvert_exporter": "python",
   "pygments_lexer": "ipython3",
   "version": "3.7.3"
  }
 },
 "nbformat": 4,
 "nbformat_minor": 2
}
