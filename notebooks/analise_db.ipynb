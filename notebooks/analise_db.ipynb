{
 "cells": [
  {
   "cell_type": "markdown",
   "metadata": {},
   "source": [
    "## Análise e interpretação dos dados fornecidos para o projeto final"
   ]
  },
  {
   "cell_type": "markdown",
   "metadata": {},
   "source": [
    "### Importando bibliotecas que serão usadas"
   ]
  },
  {
   "cell_type": "code",
   "execution_count": 1,
   "metadata": {},
   "outputs": [],
   "source": [
    "import pandas as pd\n",
    "import numpy as np\n",
    "import seaborn as sns\n",
    "import sklearn\n",
    "import matplotlib.pyplot as plt"
   ]
  },
  {
   "cell_type": "markdown",
   "metadata": {},
   "source": [
    "### Leitura e visualização dos datasets"
   ]
  },
  {
   "cell_type": "code",
   "execution_count": 2,
   "metadata": {},
   "outputs": [],
   "source": [
    "df1 = pd.read_csv('../data/estaticos_portfolio1.csv',index_col = 0)\n",
    "df2 = pd.read_csv('../data/estaticos_portfolio2.csv',index_col = 0)\n",
    "df3 = pd.read_csv('../data/estaticos_portfolio3.csv',index_col = 0)\n",
    "mkt = pd.read_csv('../data/estaticos_market.csv',index_col = 0)"
   ]
  },
  {
   "cell_type": "code",
   "execution_count": 3,
   "metadata": {},
   "outputs": [
    {
     "data": {
      "text/plain": [
       "(462298, 181)"
      ]
     },
     "execution_count": 3,
     "metadata": {},
     "output_type": "execute_result"
    }
   ],
   "source": [
    "## numero de entradas\n",
    "mkt.shape"
   ]
  },
  {
   "cell_type": "code",
   "execution_count": 4,
   "metadata": {},
   "outputs": [
    {
     "data": {
      "text/html": [
       "<div>\n",
       "<style scoped>\n",
       "    .dataframe tbody tr th:only-of-type {\n",
       "        vertical-align: middle;\n",
       "    }\n",
       "\n",
       "    .dataframe tbody tr th {\n",
       "        vertical-align: top;\n",
       "    }\n",
       "\n",
       "    .dataframe thead th {\n",
       "        text-align: right;\n",
       "    }\n",
       "</style>\n",
       "<table border=\"1\" class=\"dataframe\">\n",
       "  <thead>\n",
       "    <tr style=\"text-align: right;\">\n",
       "      <th></th>\n",
       "      <th>id</th>\n",
       "      <th>fl_matriz</th>\n",
       "      <th>de_natureza_juridica</th>\n",
       "      <th>sg_uf</th>\n",
       "      <th>natureza_juridica_macro</th>\n",
       "      <th>de_ramo</th>\n",
       "      <th>setor</th>\n",
       "      <th>idade_empresa_anos</th>\n",
       "      <th>idade_emp_cat</th>\n",
       "      <th>fl_me</th>\n",
       "      <th>...</th>\n",
       "      <th>media_meses_servicos</th>\n",
       "      <th>max_meses_servicos</th>\n",
       "      <th>min_meses_servicos</th>\n",
       "      <th>qt_funcionarios</th>\n",
       "      <th>qt_funcionarios_12meses</th>\n",
       "      <th>qt_funcionarios_24meses</th>\n",
       "      <th>tx_crescimento_12meses</th>\n",
       "      <th>tx_crescimento_24meses</th>\n",
       "      <th>tx_rotatividade</th>\n",
       "      <th>qt_filiais</th>\n",
       "    </tr>\n",
       "  </thead>\n",
       "  <tbody>\n",
       "    <tr>\n",
       "      <th>0</th>\n",
       "      <td>dabe79bec87c88ae04e869bf6bd321ee5e1893cecf6625...</td>\n",
       "      <td>True</td>\n",
       "      <td>EMPRESARIO INDIVIDUAL</td>\n",
       "      <td>PI</td>\n",
       "      <td>OUTROS</td>\n",
       "      <td>COMERCIO VAREJISTA</td>\n",
       "      <td>COMERCIO</td>\n",
       "      <td>0.646575</td>\n",
       "      <td>&lt;= 1</td>\n",
       "      <td>False</td>\n",
       "      <td>...</td>\n",
       "      <td>NaN</td>\n",
       "      <td>NaN</td>\n",
       "      <td>NaN</td>\n",
       "      <td>NaN</td>\n",
       "      <td>NaN</td>\n",
       "      <td>NaN</td>\n",
       "      <td>NaN</td>\n",
       "      <td>NaN</td>\n",
       "      <td>NaN</td>\n",
       "      <td>0</td>\n",
       "    </tr>\n",
       "    <tr>\n",
       "      <th>1</th>\n",
       "      <td>32e5f4e10932153a7ba869cb0386e7e02d49d2461046b8...</td>\n",
       "      <td>False</td>\n",
       "      <td>EMPRESARIO INDIVIDUAL</td>\n",
       "      <td>MA</td>\n",
       "      <td>OUTROS</td>\n",
       "      <td>COMERCIO VAREJISTA</td>\n",
       "      <td>COMERCIO</td>\n",
       "      <td>6.586301</td>\n",
       "      <td>5 a 10</td>\n",
       "      <td>False</td>\n",
       "      <td>...</td>\n",
       "      <td>NaN</td>\n",
       "      <td>NaN</td>\n",
       "      <td>NaN</td>\n",
       "      <td>0.0</td>\n",
       "      <td>0.0</td>\n",
       "      <td>2.0</td>\n",
       "      <td>NaN</td>\n",
       "      <td>-100.0</td>\n",
       "      <td>0.0</td>\n",
       "      <td>4</td>\n",
       "    </tr>\n",
       "    <tr>\n",
       "      <th>2</th>\n",
       "      <td>a95d6f30bba445bd3d6b0c5b36f865b38ec01d17336090...</td>\n",
       "      <td>True</td>\n",
       "      <td>EMPRESARIO INDIVIDUAL</td>\n",
       "      <td>MA</td>\n",
       "      <td>OUTROS</td>\n",
       "      <td>COMERCIO VAREJISTA</td>\n",
       "      <td>COMERCIO</td>\n",
       "      <td>8.010959</td>\n",
       "      <td>5 a 10</td>\n",
       "      <td>False</td>\n",
       "      <td>...</td>\n",
       "      <td>NaN</td>\n",
       "      <td>NaN</td>\n",
       "      <td>NaN</td>\n",
       "      <td>NaN</td>\n",
       "      <td>NaN</td>\n",
       "      <td>NaN</td>\n",
       "      <td>NaN</td>\n",
       "      <td>NaN</td>\n",
       "      <td>NaN</td>\n",
       "      <td>0</td>\n",
       "    </tr>\n",
       "    <tr>\n",
       "      <th>3</th>\n",
       "      <td>6cb309685cea0b6d2988818792ec2e6fcb2bd02e0afa9e...</td>\n",
       "      <td>True</td>\n",
       "      <td>EMPRESARIO INDIVIDUAL</td>\n",
       "      <td>RN</td>\n",
       "      <td>OUTROS</td>\n",
       "      <td>COMERCIO VAREJISTA</td>\n",
       "      <td>COMERCIO</td>\n",
       "      <td>20.863014</td>\n",
       "      <td>&gt; 20</td>\n",
       "      <td>False</td>\n",
       "      <td>...</td>\n",
       "      <td>NaN</td>\n",
       "      <td>NaN</td>\n",
       "      <td>NaN</td>\n",
       "      <td>NaN</td>\n",
       "      <td>NaN</td>\n",
       "      <td>NaN</td>\n",
       "      <td>NaN</td>\n",
       "      <td>NaN</td>\n",
       "      <td>NaN</td>\n",
       "      <td>0</td>\n",
       "    </tr>\n",
       "    <tr>\n",
       "      <th>4</th>\n",
       "      <td>f72aa7fa6787b0a5a1c88885b6120850df8ee0f71adc25...</td>\n",
       "      <td>True</td>\n",
       "      <td>SOCIEDADE EMPRESARIA LIMITADA</td>\n",
       "      <td>RN</td>\n",
       "      <td>ENTIDADES EMPRESARIAIS</td>\n",
       "      <td>COMERCIO VAREJISTA</td>\n",
       "      <td>COMERCIO</td>\n",
       "      <td>18.726027</td>\n",
       "      <td>15 a 20</td>\n",
       "      <td>False</td>\n",
       "      <td>...</td>\n",
       "      <td>39.454762</td>\n",
       "      <td>91.2</td>\n",
       "      <td>19.333333</td>\n",
       "      <td>14.0</td>\n",
       "      <td>15.0</td>\n",
       "      <td>25.0</td>\n",
       "      <td>-6.666667</td>\n",
       "      <td>-44.0</td>\n",
       "      <td>0.0</td>\n",
       "      <td>3</td>\n",
       "    </tr>\n",
       "  </tbody>\n",
       "</table>\n",
       "<p>5 rows × 181 columns</p>\n",
       "</div>"
      ],
      "text/plain": [
       "                                                  id  fl_matriz  \\\n",
       "0  dabe79bec87c88ae04e869bf6bd321ee5e1893cecf6625...       True   \n",
       "1  32e5f4e10932153a7ba869cb0386e7e02d49d2461046b8...      False   \n",
       "2  a95d6f30bba445bd3d6b0c5b36f865b38ec01d17336090...       True   \n",
       "3  6cb309685cea0b6d2988818792ec2e6fcb2bd02e0afa9e...       True   \n",
       "4  f72aa7fa6787b0a5a1c88885b6120850df8ee0f71adc25...       True   \n",
       "\n",
       "            de_natureza_juridica sg_uf natureza_juridica_macro  \\\n",
       "0          EMPRESARIO INDIVIDUAL    PI                  OUTROS   \n",
       "1          EMPRESARIO INDIVIDUAL    MA                  OUTROS   \n",
       "2          EMPRESARIO INDIVIDUAL    MA                  OUTROS   \n",
       "3          EMPRESARIO INDIVIDUAL    RN                  OUTROS   \n",
       "4  SOCIEDADE EMPRESARIA LIMITADA    RN  ENTIDADES EMPRESARIAIS   \n",
       "\n",
       "              de_ramo     setor  idade_empresa_anos idade_emp_cat  fl_me  ...  \\\n",
       "0  COMERCIO VAREJISTA  COMERCIO            0.646575          <= 1  False  ...   \n",
       "1  COMERCIO VAREJISTA  COMERCIO            6.586301        5 a 10  False  ...   \n",
       "2  COMERCIO VAREJISTA  COMERCIO            8.010959        5 a 10  False  ...   \n",
       "3  COMERCIO VAREJISTA  COMERCIO           20.863014          > 20  False  ...   \n",
       "4  COMERCIO VAREJISTA  COMERCIO           18.726027       15 a 20  False  ...   \n",
       "\n",
       "   media_meses_servicos  max_meses_servicos  min_meses_servicos  \\\n",
       "0                   NaN                 NaN                 NaN   \n",
       "1                   NaN                 NaN                 NaN   \n",
       "2                   NaN                 NaN                 NaN   \n",
       "3                   NaN                 NaN                 NaN   \n",
       "4             39.454762                91.2           19.333333   \n",
       "\n",
       "   qt_funcionarios qt_funcionarios_12meses  qt_funcionarios_24meses  \\\n",
       "0              NaN                     NaN                      NaN   \n",
       "1              0.0                     0.0                      2.0   \n",
       "2              NaN                     NaN                      NaN   \n",
       "3              NaN                     NaN                      NaN   \n",
       "4             14.0                    15.0                     25.0   \n",
       "\n",
       "   tx_crescimento_12meses  tx_crescimento_24meses tx_rotatividade qt_filiais  \n",
       "0                     NaN                     NaN             NaN          0  \n",
       "1                     NaN                  -100.0             0.0          4  \n",
       "2                     NaN                     NaN             NaN          0  \n",
       "3                     NaN                     NaN             NaN          0  \n",
       "4               -6.666667                   -44.0             0.0          3  \n",
       "\n",
       "[5 rows x 181 columns]"
      ]
     },
     "execution_count": 4,
     "metadata": {},
     "output_type": "execute_result"
    }
   ],
   "source": [
    "## corpo do dataset\n",
    "df1.head()"
   ]
  },
  {
   "cell_type": "markdown",
   "metadata": {},
   "source": [
    "### Verificando o número de registros faltantes em cada variável"
   ]
  },
  {
   "cell_type": "code",
   "execution_count": 5,
   "metadata": {},
   "outputs": [
    {
     "data": {
      "image/png": "[encoded data removed]",
      "text/plain": [
       "<Figure size 432x288 with 1 Axes>"
      ]
     },
     "metadata": {
      "needs_background": "light"
     },
     "output_type": "display_data"
    }
   ],
   "source": [
    "plt.hist(100*(df1.isnull().sum())/df1.shape[0],bins = 10,histtype='step',color = 'black',linewidth = 2.)\n",
    "plt.xlabel('Número de dados faltantes (%)')\n",
    "plt.ylabel('Numero de variáveis')\n",
    "plt.grid()"
   ]
  },
  {
   "cell_type": "markdown",
   "metadata": {},
   "source": [
    "### Como primeiro passo, eliminarei as variáveis com 95% dos dados faltantes (não faz sentido trabalhar com um parâmetro que quase não possui estatística). Coloquei a porcentagem de corte como ajustável, logo podemos aumentar ou diminuir esse threshold."
   ]
  },
  {
   "cell_type": "code",
   "execution_count": 6,
   "metadata": {},
   "outputs": [
    {
     "name": "stdout",
     "output_type": "stream",
     "text": [
      "Variaveis que serão removidas total:36\n",
      "  Index(['vl_total_tancagem', 'vl_total_veiculos_antt', 'qt_art',\n",
      "       'vl_total_tancagem_grupo', 'vl_total_veiculos_antt_grupo',\n",
      "       'vl_potenc_cons_oleo_gas', 'qt_socios_st_suspensa', 'qt_socios_pep',\n",
      "       'qt_alteracao_socio_total', 'qt_alteracao_socio_90d',\n",
      "       'qt_alteracao_socio_180d', 'qt_alteracao_socio_365d',\n",
      "       'qt_socios_pj_ativos', 'qt_socios_pj_nulos', 'qt_socios_pj_baixados',\n",
      "       'qt_socios_pj_suspensos', 'qt_socios_pj_inaptos',\n",
      "       'vl_idade_media_socios_pj', 'vl_idade_maxima_socios_pj',\n",
      "       'vl_idade_minima_socios_pj', 'coligada_mais_nova_baixada',\n",
      "       'coligada_mais_antiga_baixada', 'idade_media_coligadas_baixadas',\n",
      "       'total_filiais_coligados', 'media_filiais_coligados',\n",
      "       'max_filiais_coligados', 'min_filiais_coligados', 'idade_ate_18',\n",
      "       'idade_de_44_a_48', 'idade_de_49_a_53', 'idade_de_54_a_58',\n",
      "       'idade_acima_de_58', 'grau_instrucao_macro_analfabeto',\n",
      "       'grau_instrucao_macro_escolaridade_fundamental',\n",
      "       'grau_instrucao_macro_escolaridade_superior',\n",
      "       'grau_instrucao_macro_desconhecido'],\n",
      "      dtype='object')\n"
     ]
    }
   ],
   "source": [
    "threshold = 0.95   ## pegar colunas maior que 95%\n",
    "nan_num   = (df1.isnull().sum())/df1.shape[0]  ## calculo da porcentagem de registros null para cada coluna\n",
    "var_nans  = df1.columns[nan_num>=threshold] ## pega nome das colunas maiores que a porcentagem definida\n",
    "print('Variaveis que serão removidas total:'+str(var_nans.shape[0])+'\\n ',var_nans)"
   ]
  },
  {
   "cell_type": "markdown",
   "metadata": {},
   "source": [
    "### Removendo váriaveis "
   ]
  },
  {
   "cell_type": "code",
   "execution_count": 7,
   "metadata": {},
   "outputs": [],
   "source": [
    "mkt.drop(labels=var_nans,axis=1,inplace=True)    "
   ]
  },
  {
   "cell_type": "code",
   "execution_count": 8,
   "metadata": {},
   "outputs": [
    {
     "data": {
      "text/plain": [
       "(462298, 145)"
      ]
     },
     "execution_count": 8,
     "metadata": {},
     "output_type": "execute_result"
    }
   ],
   "source": [
    "## Database com features removidas\n",
    "mkt.shape"
   ]
  },
  {
   "cell_type": "markdown",
   "metadata": {},
   "source": [
    "### Análise das features numéricas"
   ]
  },
  {
   "cell_type": "code",
   "execution_count": 9,
   "metadata": {},
   "outputs": [
    {
     "name": "stdout",
     "output_type": "stream",
     "text": [
      "<class 'pandas.core.frame.DataFrame'>\n",
      "Int64Index: 462298 entries, 0 to 462297\n",
      "Columns: 145 entries, id to qt_filiais\n",
      "dtypes: bool(9), float64(108), int64(1), object(27)\n",
      "memory usage: 487.2+ MB\n"
     ]
    }
   ],
   "source": [
    "mkt.info()"
   ]
  },
  {
   "cell_type": "code",
   "execution_count": 10,
   "metadata": {},
   "outputs": [
    {
     "data": {
      "text/plain": [
       "(462298, 118)"
      ]
     },
     "execution_count": 10,
     "metadata": {},
     "output_type": "execute_result"
    }
   ],
   "source": [
    "## Pegando somente colunas numéricas\n",
    "numerics = ['bool', 'float64', 'int64']\n",
    "mkt_num  = mkt.select_dtypes(include=numerics)\n",
    "mkt_num.shape"
   ]
  },
  {
   "cell_type": "code",
   "execution_count": 11,
   "metadata": {},
   "outputs": [
    {
     "data": {
      "text/html": [
       "<div>\n",
       "<style scoped>\n",
       "    .dataframe tbody tr th:only-of-type {\n",
       "        vertical-align: middle;\n",
       "    }\n",
       "\n",
       "    .dataframe tbody tr th {\n",
       "        vertical-align: top;\n",
       "    }\n",
       "\n",
       "    .dataframe thead th {\n",
       "        text-align: right;\n",
       "    }\n",
       "</style>\n",
       "<table border=\"1\" class=\"dataframe\">\n",
       "  <thead>\n",
       "    <tr style=\"text-align: right;\">\n",
       "      <th></th>\n",
       "      <th>fl_matriz</th>\n",
       "      <th>idade_empresa_anos</th>\n",
       "      <th>fl_me</th>\n",
       "      <th>fl_sa</th>\n",
       "      <th>fl_epp</th>\n",
       "      <th>fl_mei</th>\n",
       "      <th>fl_ltda</th>\n",
       "      <th>fl_st_especial</th>\n",
       "      <th>fl_email</th>\n",
       "      <th>fl_telefone</th>\n",
       "      <th>...</th>\n",
       "      <th>media_meses_servicos</th>\n",
       "      <th>max_meses_servicos</th>\n",
       "      <th>min_meses_servicos</th>\n",
       "      <th>qt_funcionarios</th>\n",
       "      <th>qt_funcionarios_12meses</th>\n",
       "      <th>qt_funcionarios_24meses</th>\n",
       "      <th>tx_crescimento_12meses</th>\n",
       "      <th>tx_crescimento_24meses</th>\n",
       "      <th>tx_rotatividade</th>\n",
       "      <th>qt_filiais</th>\n",
       "    </tr>\n",
       "  </thead>\n",
       "  <tbody>\n",
       "    <tr>\n",
       "      <th>0</th>\n",
       "      <td>True</td>\n",
       "      <td>14.457534</td>\n",
       "      <td>False</td>\n",
       "      <td>False</td>\n",
       "      <td>False</td>\n",
       "      <td>False</td>\n",
       "      <td>False</td>\n",
       "      <td>False</td>\n",
       "      <td>True</td>\n",
       "      <td>True</td>\n",
       "      <td>...</td>\n",
       "      <td>43.738462</td>\n",
       "      <td>93.266667</td>\n",
       "      <td>19.166667</td>\n",
       "      <td>26.0</td>\n",
       "      <td>26.0</td>\n",
       "      <td>27.0</td>\n",
       "      <td>0.0</td>\n",
       "      <td>-3.703704</td>\n",
       "      <td>0.0</td>\n",
       "      <td>0</td>\n",
       "    </tr>\n",
       "    <tr>\n",
       "      <th>1</th>\n",
       "      <td>True</td>\n",
       "      <td>1.463014</td>\n",
       "      <td>False</td>\n",
       "      <td>False</td>\n",
       "      <td>False</td>\n",
       "      <td>True</td>\n",
       "      <td>False</td>\n",
       "      <td>False</td>\n",
       "      <td>True</td>\n",
       "      <td>True</td>\n",
       "      <td>...</td>\n",
       "      <td>NaN</td>\n",
       "      <td>NaN</td>\n",
       "      <td>NaN</td>\n",
       "      <td>NaN</td>\n",
       "      <td>NaN</td>\n",
       "      <td>NaN</td>\n",
       "      <td>NaN</td>\n",
       "      <td>NaN</td>\n",
       "      <td>NaN</td>\n",
       "      <td>0</td>\n",
       "    </tr>\n",
       "    <tr>\n",
       "      <th>2</th>\n",
       "      <td>True</td>\n",
       "      <td>7.093151</td>\n",
       "      <td>False</td>\n",
       "      <td>False</td>\n",
       "      <td>False</td>\n",
       "      <td>True</td>\n",
       "      <td>False</td>\n",
       "      <td>False</td>\n",
       "      <td>False</td>\n",
       "      <td>True</td>\n",
       "      <td>...</td>\n",
       "      <td>NaN</td>\n",
       "      <td>NaN</td>\n",
       "      <td>NaN</td>\n",
       "      <td>NaN</td>\n",
       "      <td>NaN</td>\n",
       "      <td>NaN</td>\n",
       "      <td>NaN</td>\n",
       "      <td>NaN</td>\n",
       "      <td>NaN</td>\n",
       "      <td>0</td>\n",
       "    </tr>\n",
       "    <tr>\n",
       "      <th>3</th>\n",
       "      <td>True</td>\n",
       "      <td>6.512329</td>\n",
       "      <td>False</td>\n",
       "      <td>False</td>\n",
       "      <td>False</td>\n",
       "      <td>False</td>\n",
       "      <td>False</td>\n",
       "      <td>False</td>\n",
       "      <td>True</td>\n",
       "      <td>True</td>\n",
       "      <td>...</td>\n",
       "      <td>NaN</td>\n",
       "      <td>NaN</td>\n",
       "      <td>NaN</td>\n",
       "      <td>NaN</td>\n",
       "      <td>NaN</td>\n",
       "      <td>NaN</td>\n",
       "      <td>NaN</td>\n",
       "      <td>NaN</td>\n",
       "      <td>NaN</td>\n",
       "      <td>0</td>\n",
       "    </tr>\n",
       "    <tr>\n",
       "      <th>4</th>\n",
       "      <td>True</td>\n",
       "      <td>3.200000</td>\n",
       "      <td>False</td>\n",
       "      <td>False</td>\n",
       "      <td>False</td>\n",
       "      <td>False</td>\n",
       "      <td>False</td>\n",
       "      <td>False</td>\n",
       "      <td>True</td>\n",
       "      <td>True</td>\n",
       "      <td>...</td>\n",
       "      <td>NaN</td>\n",
       "      <td>NaN</td>\n",
       "      <td>NaN</td>\n",
       "      <td>NaN</td>\n",
       "      <td>NaN</td>\n",
       "      <td>NaN</td>\n",
       "      <td>NaN</td>\n",
       "      <td>NaN</td>\n",
       "      <td>NaN</td>\n",
       "      <td>0</td>\n",
       "    </tr>\n",
       "  </tbody>\n",
       "</table>\n",
       "<p>5 rows × 118 columns</p>\n",
       "</div>"
      ],
      "text/plain": [
       "   fl_matriz  idade_empresa_anos  fl_me  fl_sa  fl_epp  fl_mei  fl_ltda  \\\n",
       "0       True           14.457534  False  False   False   False    False   \n",
       "1       True            1.463014  False  False   False    True    False   \n",
       "2       True            7.093151  False  False   False    True    False   \n",
       "3       True            6.512329  False  False   False   False    False   \n",
       "4       True            3.200000  False  False   False   False    False   \n",
       "\n",
       "   fl_st_especial  fl_email  fl_telefone  ...  media_meses_servicos  \\\n",
       "0           False      True         True  ...             43.738462   \n",
       "1           False      True         True  ...                   NaN   \n",
       "2           False     False         True  ...                   NaN   \n",
       "3           False      True         True  ...                   NaN   \n",
       "4           False      True         True  ...                   NaN   \n",
       "\n",
       "   max_meses_servicos  min_meses_servicos  qt_funcionarios  \\\n",
       "0           93.266667           19.166667             26.0   \n",
       "1                 NaN                 NaN              NaN   \n",
       "2                 NaN                 NaN              NaN   \n",
       "3                 NaN                 NaN              NaN   \n",
       "4                 NaN                 NaN              NaN   \n",
       "\n",
       "   qt_funcionarios_12meses  qt_funcionarios_24meses  tx_crescimento_12meses  \\\n",
       "0                     26.0                     27.0                     0.0   \n",
       "1                      NaN                      NaN                     NaN   \n",
       "2                      NaN                      NaN                     NaN   \n",
       "3                      NaN                      NaN                     NaN   \n",
       "4                      NaN                      NaN                     NaN   \n",
       "\n",
       "   tx_crescimento_24meses  tx_rotatividade  qt_filiais  \n",
       "0               -3.703704              0.0           0  \n",
       "1                     NaN              NaN           0  \n",
       "2                     NaN              NaN           0  \n",
       "3                     NaN              NaN           0  \n",
       "4                     NaN              NaN           0  \n",
       "\n",
       "[5 rows x 118 columns]"
      ]
     },
     "execution_count": 11,
     "metadata": {},
     "output_type": "execute_result"
    }
   ],
   "source": [
    "mkt_num.head()"
   ]
  },
  {
   "cell_type": "code",
   "execution_count": null,
   "metadata": {},
   "outputs": [],
   "source": [
    "## Verificando se há alguma coluna com valor constante -> demorando pakas preciso saber oq ta rolando\n",
    "mkt.std(axis = 1) == 0"
   ]
  },
  {
   "cell_type": "markdown",
   "metadata": {},
   "source": [
    "## Minha proxima pergunta é se um cliente pode estar no portifolio de mais de uma empresa"
   ]
  },
  {
   "cell_type": "code",
   "execution_count": 12,
   "metadata": {},
   "outputs": [],
   "source": [
    "def buscaID(id_tag,df):\n",
    "    return sum(df['id'] == id_tag)"
   ]
  },
  {
   "cell_type": "code",
   "execution_count": 34,
   "metadata": {},
   "outputs": [
    {
     "name": "stdout",
     "output_type": "stream",
     "text": [
      "empresas 1 e 2 compartilham de 0 clientes\n",
      "empresas 1 e 3 compartilham de 0 clientes\n",
      "empresas 2 e 3 compartilham de 108 clientes\n"
     ]
    }
   ],
   "source": [
    "id12  = sum([buscaID(df1['id'][i],df2) for i in range(0,df1.shape[0])])\n",
    "id13  = sum([buscaID(df1['id'][i],df3) for i in range(0,df1.shape[0])])\n",
    "id23  = sum([buscaID(df2['id'][i],df3) for i in range(0,df2.shape[0])])\n",
    "\n",
    "print('empresas 1 e 2 compartilham de ' + str(id12) + ' clientes')\n",
    "print('empresas 1 e 3 compartilham de ' + str(id13) + ' clientes')\n",
    "print('empresas 2 e 3 compartilham de ' + str(id23) + ' clientes')"
   ]
  },
  {
   "cell_type": "code",
   "execution_count": null,
   "metadata": {},
   "outputs": [],
   "source": []
  }
 ],
 "metadata": {
  "kernelspec": {
   "display_name": "Python 3",
   "language": "python",
   "name": "python3"
  },
  "language_info": {
   "codemirror_mode": {
    "name": "ipython",
    "version": 3
   },
   "file_extension": ".py",
   "mimetype": "text/x-python",
   "name": "python",
   "nbconvert_exporter": "python",
   "pygments_lexer": "ipython3",
   "version": "3.7.3"
  }
 },
 "nbformat": 4,
 "nbformat_minor": 2
}
